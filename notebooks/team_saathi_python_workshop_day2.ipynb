{
  "nbformat": 4,
  "nbformat_minor": 0,
  "metadata": {
    "colab": {
      "name": "team-saathi-python-workshop-day2.ipynb",
      "provenance": [],
      "history_visible": true
    },
    "kernelspec": {
      "name": "python3",
      "display_name": "Python 3"
    },
    "language_info": {
      "name": "python"
    }
  },
  "cells": [
    {
      "cell_type": "markdown",
      "metadata": {
        "id": "Y7mdnDwOVNvP"
      },
      "source": [
        "#Demo: Hello World"
      ]
    },
    {
      "cell_type": "markdown",
      "metadata": {
        "id": "P_yLdd_xebuc"
      },
      "source": [
        "#Python Functions = Python Objects"
      ]
    },
    {
      "cell_type": "markdown",
      "metadata": {
        "id": "IIbuX_Fo4DKE"
      },
      "source": [
        "In Python, functions are first-class objects. This means that functions can be passed around and used as arguments, just like any other object (string, int, float, list, and so on). Consider the following three functions:\n"
      ]
    },
    {
      "cell_type": "code",
      "metadata": {
        "id": "cwEfR0aa4ADB"
      },
      "source": [
        "def say_namaste(name):\n",
        "    return f\"Namaste {name}\"\n",
        "\n",
        "def say_hello(name):\n",
        "    return f\"Hello {name}\"\n",
        "\n",
        "def greet(greeter_func,name):\n",
        "    return greeter_func(name)"
      ],
      "execution_count": 51,
      "outputs": []
    },
    {
      "cell_type": "markdown",
      "metadata": {
        "id": "zsZ0KLLp4Hvt"
      },
      "source": [
        "What is the output of the following?"
      ]
    },
    {
      "cell_type": "code",
      "metadata": {
        "id": "ql2NYJAZ4cUU",
        "colab": {
          "base_uri": "https://localhost:8080/",
          "height": 36
        },
        "outputId": "37c9acea-d3db-4b1a-f10f-70b5b5fa8454"
      },
      "source": [
        "greet(say_hello,\"Bob\")"
      ],
      "execution_count": 53,
      "outputs": [
        {
          "output_type": "execute_result",
          "data": {
            "application/vnd.google.colaboratory.intrinsic+json": {
              "type": "string"
            },
            "text/plain": [
              "'Hello Bob'"
            ]
          },
          "metadata": {
            "tags": []
          },
          "execution_count": 53
        }
      ]
    },
    {
      "cell_type": "code",
      "metadata": {
        "id": "f94PI06xl85Z",
        "colab": {
          "base_uri": "https://localhost:8080/",
          "height": 36
        },
        "outputId": "993906ed-c0dc-4707-9c9c-98b135fbb21a"
      },
      "source": [
        "greet(say_namaste,\"Bob\")"
      ],
      "execution_count": 55,
      "outputs": [
        {
          "output_type": "execute_result",
          "data": {
            "application/vnd.google.colaboratory.intrinsic+json": {
              "type": "string"
            },
            "text/plain": [
              "'Namaste Bob'"
            ]
          },
          "metadata": {
            "tags": []
          },
          "execution_count": 55
        }
      ]
    },
    {
      "cell_type": "markdown",
      "metadata": {
        "id": "JjSaNIp06zgQ"
      },
      "source": [
        "## You can define a function inside a function !"
      ]
    },
    {
      "cell_type": "code",
      "metadata": {
        "id": "5-ADlDGs548f"
      },
      "source": [
        "def parent():\n",
        "    print(\"Printing from the parent() function\")\n",
        "\n",
        "    def first_child():\n",
        "        print(\"Printing from the first_child() function\")\n",
        "\n",
        "    def second_child():\n",
        "        print(\"Printing from the second_child() function\")\n",
        "\n",
        "    second_child()\n",
        "    first_child()"
      ],
      "execution_count": 56,
      "outputs": []
    },
    {
      "cell_type": "code",
      "metadata": {
        "colab": {
          "base_uri": "https://localhost:8080/"
        },
        "id": "GZf09Ide-4JA",
        "outputId": "ebfabc40-d245-41a0-c7b3-bab9ff74729b"
      },
      "source": [
        "parent()"
      ],
      "execution_count": 57,
      "outputs": [
        {
          "output_type": "stream",
          "text": [
            "Printing from the parent() function\n",
            "Printing from the second_child() function\n",
            "Printing from the first_child() function\n"
          ],
          "name": "stdout"
        }
      ]
    },
    {
      "cell_type": "markdown",
      "metadata": {
        "id": "ZH9IbAqk7IoE"
      },
      "source": [
        "# Decorators\n",
        "Main job: decorating a normal function i.e expanding that function's functionality "
      ]
    },
    {
      "cell_type": "code",
      "metadata": {
        "id": "HmjIZq338l8i",
        "colab": {
          "base_uri": "https://localhost:8080/"
        },
        "outputId": "834b444d-49cb-4d4c-c364-1ce25aba23fb"
      },
      "source": [
        "def say_namaste():\n",
        "    print(\"Namaste!\")\n",
        "say_namaste()"
      ],
      "execution_count": 58,
      "outputs": [
        {
          "output_type": "stream",
          "text": [
            "Namaste!\n"
          ],
          "name": "stdout"
        }
      ]
    },
    {
      "cell_type": "code",
      "metadata": {
        "id": "FKotkbET6yHA"
      },
      "source": [
        "def my_decorator(func):\n",
        "    def wrapper():\n",
        "        print(\"Something is happening before the function is called.\")\n",
        "        func()\n",
        "        print(\"Something is happening after the function is called.\")\n",
        "    return wrapper"
      ],
      "execution_count": 17,
      "outputs": []
    },
    {
      "cell_type": "code",
      "metadata": {
        "id": "YhwymZuy7X2u",
        "colab": {
          "base_uri": "https://localhost:8080/"
        },
        "outputId": "e0cc8b9a-0c77-4c9d-a2c2-04d900b64922"
      },
      "source": [
        "say_namaste = my_decorator(say_namaste)\n",
        "say_namaste()"
      ],
      "execution_count": 59,
      "outputs": [
        {
          "output_type": "stream",
          "text": [
            "Something is happening before the function is called.\n",
            "Namaste!\n",
            "Something is happening after the function is called.\n"
          ],
          "name": "stdout"
        }
      ]
    },
    {
      "cell_type": "markdown",
      "metadata": {
        "id": "VLL_q6dR83qR"
      },
      "source": [
        "What happened here? the say_namaste functions' behavior got modified by the decorator"
      ]
    },
    {
      "cell_type": "markdown",
      "metadata": {
        "id": "YAoRo_BBeTS-"
      },
      "source": [
        "## Example: Unlocking the door for team saathi"
      ]
    },
    {
      "cell_type": "markdown",
      "metadata": {
        "id": "tJ5WESBtexIl"
      },
      "source": [
        "First lets create a function that unlocks the door"
      ]
    },
    {
      "cell_type": "code",
      "metadata": {
        "id": "EN2xGtT9BbI2",
        "colab": {
          "base_uri": "https://localhost:8080/"
        },
        "outputId": "c0a0063a-b66e-4d0a-807a-9cc9241e7991"
      },
      "source": [
        "def unlock_door():\n",
        "    print(\"The door has been unlocked!\")\n",
        "unlock_door()"
      ],
      "execution_count": 60,
      "outputs": [
        {
          "output_type": "stream",
          "text": [
            "The door has been unlocked!\n"
          ],
          "name": "stdout"
        }
      ]
    },
    {
      "cell_type": "markdown",
      "metadata": {
        "id": "506nQhglCDO0"
      },
      "source": [
        "Suppose we want to allow only team sathi without changing the unlock_door function itself"
      ]
    },
    {
      "cell_type": "code",
      "metadata": {
        "id": "zW_sy55_AFg8"
      },
      "source": [
        "global person_at_door"
      ],
      "execution_count": 63,
      "outputs": []
    },
    {
      "cell_type": "code",
      "metadata": {
        "id": "24886ZjS95O9"
      },
      "source": [
        "def only_team_saathi(func):\n",
        "    team_saathi_members = [\"phurkima\",\"divya\",\"neha\",\"sampada\",\"arsana\",\"divya\",\"meena\",\"utsabi\",\"paridhi\",\"kajal\",\"rinky\",\"rachana\"]\n",
        "    def wrapper():\n",
        "      if person_at_door in team_saathi_members:\n",
        "          func()\n",
        "      else:\n",
        "          print(\"Intruder alert !\") \n",
        "    return wrapper"
      ],
      "execution_count": 20,
      "outputs": []
    },
    {
      "cell_type": "code",
      "metadata": {
        "id": "4awJ22rwBtd7",
        "colab": {
          "base_uri": "https://localhost:8080/"
        },
        "outputId": "cc915bbd-6f3f-4e98-c024-97a42fe9a510"
      },
      "source": [
        "person_at_door = \"bob\"\n",
        "unlock_door = only_team_saathi(unlock_door)\n",
        "unlock_door()"
      ],
      "execution_count": 62,
      "outputs": [
        {
          "output_type": "stream",
          "text": [
            "The door has been unlocked!\n"
          ],
          "name": "stdout"
        }
      ]
    },
    {
      "cell_type": "markdown",
      "metadata": {
        "id": "9SnhxrGnEGKa"
      },
      "source": [
        "*A more beautiful way to decorate*"
      ]
    },
    {
      "cell_type": "code",
      "metadata": {
        "id": "_-ubEbqlEMlF",
        "colab": {
          "base_uri": "https://localhost:8080/"
        },
        "outputId": "102fa8d4-d41c-4b1d-a48d-fa1a07d7a7a9"
      },
      "source": [
        "@only_team_saathi\n",
        "def unlock_door():\n",
        "    print(\"The door has been unlocked!\")\n",
        "\n",
        "unlock_door()"
      ],
      "execution_count": 64,
      "outputs": [
        {
          "output_type": "stream",
          "text": [
            "The door has been unlocked!\n"
          ],
          "name": "stdout"
        }
      ]
    },
    {
      "cell_type": "markdown",
      "metadata": {
        "id": "Q548BrAD4Zu1"
      },
      "source": [
        "**Exercise**: \n",
        "\n",
        "*   Learn how to pass  passing arguments to decorators\n",
        "*   Learn how to return values from a decorated function\n",
        "\n",
        "For guidance, follow this tutorial: https://realpython.com/primer-on-python-decorators/ "
      ]
    },
    {
      "cell_type": "markdown",
      "metadata": {
        "id": "zUu0wf-L3-G-"
      },
      "source": [
        "# \\*\\*Kwargs and \\*args\n",
        "\n",
        "Magic variables that are useful when you don't know how many parameters will be passed to your function, args should always be at the end"
      ]
    },
    {
      "cell_type": "code",
      "metadata": {
        "id": "LS9usXhKFHQG",
        "colab": {
          "base_uri": "https://localhost:8080/"
        },
        "outputId": "d72c6022-7f81-43b9-cd86-88a917e42d49"
      },
      "source": [
        "def print_member_names(team_name,*args):\n",
        "    print(\"team name:\", team_name)\n",
        "    print(\"members:\")\n",
        "    for item in args:\n",
        "        print(item)\n",
        "\n",
        "print_member_names(\"Team Saathi\",\"Neha\",\"Sampada\",\"Rijesh\")"
      ],
      "execution_count": 67,
      "outputs": [
        {
          "output_type": "stream",
          "text": [
            "team name: Team Saathi\n",
            "members:\n",
            "Neha\n",
            "Sampada\n",
            "Rijesh\n"
          ],
          "name": "stdout"
        }
      ]
    },
    {
      "cell_type": "markdown",
      "metadata": {
        "id": "ibMqpQ9tChTP"
      },
      "source": [
        "Question: Guess what data type the **args** variable above is ?"
      ]
    },
    {
      "cell_type": "code",
      "metadata": {
        "colab": {
          "base_uri": "https://localhost:8080/"
        },
        "id": "obGFHmrfB75O",
        "outputId": "f91221a0-d784-4add-b7c6-b41ca03360f3"
      },
      "source": [
        "def print_member_names(team_name, **kwargs):\n",
        "    print(\"team name:\", team_name)\n",
        "    for key,value in kwargs.items():\n",
        "        print(key,\":\",value)\n",
        "\n",
        "print_member_names(\"Team Saathi\",mentors=[\"Rijesh\",\"Swornim\",\"Sheetal\"])"
      ],
      "execution_count": 69,
      "outputs": [
        {
          "output_type": "stream",
          "text": [
            "team name: Team Saathi\n",
            "mentors : ['Rijesh', 'Swornim', 'Sheetal']\n"
          ],
          "name": "stdout"
        }
      ]
    },
    {
      "cell_type": "code",
      "metadata": {
        "colab": {
          "base_uri": "https://localhost:8080/"
        },
        "id": "--OWs_feCRFa",
        "outputId": "7057a1ff-1739-45e8-a2ee-2a9bbb6e4e3e"
      },
      "source": [
        "print_member_names(\"Team Saathi\",interns=[\"Neha\",\"Sampada\"])"
      ],
      "execution_count": 70,
      "outputs": [
        {
          "output_type": "stream",
          "text": [
            "team name: Team Saathi\n",
            "interns : ['Neha', 'Sampada']\n"
          ],
          "name": "stdout"
        }
      ]
    },
    {
      "cell_type": "markdown",
      "metadata": {
        "id": "QH02PlX-D7S0"
      },
      "source": [
        "Question: Guess what data type the **kwargs** variable above is ?\n",
        "\n",
        "\n"
      ]
    },
    {
      "cell_type": "markdown",
      "metadata": {
        "id": "GNfE903JABhL"
      },
      "source": [
        "Note: using the specific variable names \"kwargs\" and \"args\" when using magic variables is only a convention, the real indicators of such variables is the \"*\" or \"**\" before the variable name\n",
        "\n",
        "Want to learn more ? Look here https://book.pythontips.com/en/latest/args_and_kwargs.html"
      ]
    },
    {
      "cell_type": "markdown",
      "metadata": {
        "id": "LmbmNV5jcLZz"
      },
      "source": [
        "#Object-Oriented Programming in Python"
      ]
    },
    {
      "cell_type": "markdown",
      "metadata": {
        "id": "UOsLg9uncTJc"
      },
      "source": [
        "### Class Declaration"
      ]
    },
    {
      "cell_type": "markdown",
      "metadata": {
        "id": "Kn445dPOoyu1"
      },
      "source": [
        "Lets make a class that contains information about team saathi members"
      ]
    },
    {
      "cell_type": "code",
      "metadata": {
        "id": "YzdHphbMqyPZ"
      },
      "source": [
        "class TeamSaathiMembers:\n",
        "  pass"
      ],
      "execution_count": 71,
      "outputs": []
    },
    {
      "cell_type": "code",
      "metadata": {
        "id": "769gbHuNq1Sk"
      },
      "source": [
        "kriti=TeamSaathiMembers()"
      ],
      "execution_count": 72,
      "outputs": []
    },
    {
      "cell_type": "markdown",
      "metadata": {
        "id": "7mMHn8Xtq_QW"
      },
      "source": [
        "The above class is pretty useless. Lets define some attributes"
      ]
    },
    {
      "cell_type": "code",
      "metadata": {
        "id": "zsTdtwU_cSMM"
      },
      "source": [
        "class TeamSaathiMembers:\n",
        "  project = \"Project Saathi\"\n",
        "  def __init__(self, name, city,specialization):\n",
        "    self.name = name\n",
        "    self.city = city\n",
        "    self.specialization = specialization"
      ],
      "execution_count": 86,
      "outputs": []
    },
    {
      "cell_type": "code",
      "metadata": {
        "colab": {
          "base_uri": "https://localhost:8080/",
          "height": 36
        },
        "id": "8ASu7xEJf09b",
        "outputId": "9115b90f-479c-427e-9fc4-71491a068c72"
      },
      "source": [
        "TeamSaathiMembers.project"
      ],
      "execution_count": 74,
      "outputs": [
        {
          "output_type": "execute_result",
          "data": {
            "application/vnd.google.colaboratory.intrinsic+json": {
              "type": "string"
            },
            "text/plain": [
              "'Project Saathi'"
            ]
          },
          "metadata": {
            "tags": []
          },
          "execution_count": 74
        }
      ]
    },
    {
      "cell_type": "code",
      "metadata": {
        "colab": {
          "base_uri": "https://localhost:8080/",
          "height": 166
        },
        "id": "DvJ7z9RWgR3b",
        "outputId": "30692fae-1822-4c91-e9b6-daa8f157dadd"
      },
      "source": [
        "TeamSaathiMembers.name"
      ],
      "execution_count": 75,
      "outputs": [
        {
          "output_type": "error",
          "ename": "AttributeError",
          "evalue": "ignored",
          "traceback": [
            "\u001b[0;31m---------------------------------------------------------------------------\u001b[0m",
            "\u001b[0;31mAttributeError\u001b[0m                            Traceback (most recent call last)",
            "\u001b[0;32m<ipython-input-75-3000cbc335e7>\u001b[0m in \u001b[0;36m<module>\u001b[0;34m()\u001b[0m\n\u001b[0;32m----> 1\u001b[0;31m \u001b[0mTeamSaathiMembers\u001b[0m\u001b[0;34m.\u001b[0m\u001b[0mname\u001b[0m\u001b[0;34m\u001b[0m\u001b[0;34m\u001b[0m\u001b[0m\n\u001b[0m",
            "\u001b[0;31mAttributeError\u001b[0m: type object 'TeamSaathiMembers' has no attribute 'name'"
          ]
        }
      ]
    },
    {
      "cell_type": "markdown",
      "metadata": {
        "id": "y0JuOcR_g-G7"
      },
      "source": [
        "*Why does this give an error?*"
      ]
    },
    {
      "cell_type": "markdown",
      "metadata": {
        "id": "yfjSHhfYgTSz"
      },
      "source": [
        "Name is an instance property (notice it is initialized as self.name as a property of the self object). It only exists for object or instances of this class. What is self ? It is reference to an object/instance belonging to that class "
      ]
    },
    {
      "cell_type": "markdown",
      "metadata": {
        "id": "ixjGfj9qsX8Q"
      },
      "source": [
        "### Creating instances/objects of a class"
      ]
    },
    {
      "cell_type": "code",
      "metadata": {
        "id": "l0w8XmOlhX_Y"
      },
      "source": [
        "kriti=TeamSaathiMembers(\"Kriti\", \"Kathmandu\",\"Computer Engineering\")\n",
        "utsabi=TeamSaathiMembers(\"Utsabi\", \"Kathmandu\",\"CSIT\")"
      ],
      "execution_count": 87,
      "outputs": []
    },
    {
      "cell_type": "code",
      "metadata": {
        "colab": {
          "base_uri": "https://localhost:8080/",
          "height": 36
        },
        "id": "sVR_sEPvi71M",
        "outputId": "e3cefcc2-aeeb-4ad1-b81a-5ce18cbe2e49"
      },
      "source": [
        "kriti.name"
      ],
      "execution_count": 88,
      "outputs": [
        {
          "output_type": "execute_result",
          "data": {
            "application/vnd.google.colaboratory.intrinsic+json": {
              "type": "string"
            },
            "text/plain": [
              "'Kriti'"
            ]
          },
          "metadata": {
            "tags": []
          },
          "execution_count": 88
        }
      ]
    },
    {
      "cell_type": "code",
      "metadata": {
        "colab": {
          "base_uri": "https://localhost:8080/",
          "height": 36
        },
        "id": "cduZ8RB9i9q8",
        "outputId": "972a97a9-d79a-42d9-b299-ff41feb70e00"
      },
      "source": [
        "utsabi.specialization"
      ],
      "execution_count": 78,
      "outputs": [
        {
          "output_type": "execute_result",
          "data": {
            "application/vnd.google.colaboratory.intrinsic+json": {
              "type": "string"
            },
            "text/plain": [
              "'CSIT'"
            ]
          },
          "metadata": {
            "tags": []
          },
          "execution_count": 78
        }
      ]
    },
    {
      "cell_type": "markdown",
      "metadata": {
        "id": "tfcbIg_MmQcW"
      },
      "source": [
        "Objects are mutable i.e attribute values can be changed dynamically. Let's change utsabi's specialization\n"
      ]
    },
    {
      "cell_type": "code",
      "metadata": {
        "colab": {
          "base_uri": "https://localhost:8080/",
          "height": 36
        },
        "id": "BL3VFTEQmnsi",
        "outputId": "d58ea93d-891f-48f9-cb5c-431626a73835"
      },
      "source": [
        "utsabi.specialization='Computer Science & Information Technology'\n",
        "utsabi.specialization"
      ],
      "execution_count": 79,
      "outputs": [
        {
          "output_type": "execute_result",
          "data": {
            "application/vnd.google.colaboratory.intrinsic+json": {
              "type": "string"
            },
            "text/plain": [
              "'Computer Science & Information Technology'"
            ]
          },
          "metadata": {
            "tags": []
          },
          "execution_count": 79
        }
      ]
    },
    {
      "cell_type": "markdown",
      "metadata": {
        "id": "zaw7HMfts9Fo"
      },
      "source": [
        "Creating functions within a class"
      ]
    },
    {
      "cell_type": "code",
      "metadata": {
        "id": "vbCT1hjJs8Yn"
      },
      "source": [
        "class TeamSaathiMembers:\n",
        "  project = \"Project Saathi\"\n",
        "  def __init__(self, name, city,specialization):\n",
        "    self.name = name\n",
        "    self.city = city\n",
        "    self.specialization = specialization\n",
        "  \n",
        "  def description(self): #this is an instance function\n",
        "    return f\"{self.name} is studying {self.specialization}\"\n",
        "\n",
        "  def alternative_description():\n",
        "    pass"
      ],
      "execution_count": 90,
      "outputs": []
    },
    {
      "cell_type": "code",
      "metadata": {
        "colab": {
          "base_uri": "https://localhost:8080/"
        },
        "id": "Zj38ItQKui5i",
        "outputId": "efb03d94-7473-45dc-cf1e-ea96426c9c25"
      },
      "source": [
        "TeamSaathiMembers.description"
      ],
      "execution_count": 93,
      "outputs": [
        {
          "output_type": "execute_result",
          "data": {
            "text/plain": [
              "<function __main__.TeamSaathiMembers.description>"
            ]
          },
          "metadata": {
            "tags": []
          },
          "execution_count": 93
        }
      ]
    },
    {
      "cell_type": "code",
      "metadata": {
        "colab": {
          "base_uri": "https://localhost:8080/",
          "height": 36
        },
        "id": "622CIvDduva5",
        "outputId": "6b34d97c-9360-475d-a3bc-234cc899e4aa"
      },
      "source": [
        "arsana=TeamSaathiMembers(\"Arsana\", \"Kathmandu\",\"Bsc. Computing\")\n",
        "arsana.description()"
      ],
      "execution_count": 94,
      "outputs": [
        {
          "output_type": "execute_result",
          "data": {
            "application/vnd.google.colaboratory.intrinsic+json": {
              "type": "string"
            },
            "text/plain": [
              "'Arsana is studying Bsc. Computing'"
            ]
          },
          "metadata": {
            "tags": []
          },
          "execution_count": 94
        }
      ]
    },
    {
      "cell_type": "markdown",
      "metadata": {
        "id": "uZj5iTjD6URI"
      },
      "source": [
        "### Class Inheritance"
      ]
    },
    {
      "cell_type": "code",
      "metadata": {
        "id": "7qYhAkvW6M2q"
      },
      "source": [
        "class TeamSaathiMentors(TeamSaathiMembers):\n",
        "  def __init__(self,name,location,specialization,task):\n",
        "    super().__init__(name,location,specialization)\n",
        "    self.task=task\n",
        "  \n",
        "  def description(self): \n",
        "    print(f\"Mentor {self.name} is responsible for the {self.task}\")"
      ],
      "execution_count": 106,
      "outputs": []
    },
    {
      "cell_type": "code",
      "metadata": {
        "colab": {
          "base_uri": "https://localhost:8080/"
        },
        "id": "yD3SUTUW7pOJ",
        "outputId": "67d2946a-988e-439e-9216-1652f63e86b8"
      },
      "source": [
        "rijesh = TeamSaathiMentors (\"Rijesh\",\"Munich\",\"Computer Science\",\"Python Workshop\")\n",
        "rijesh.description()"
      ],
      "execution_count": 107,
      "outputs": [
        {
          "output_type": "stream",
          "text": [
            "Mentor Rijesh is responsible for the Python Workshop\n"
          ],
          "name": "stdout"
        }
      ]
    },
    {
      "cell_type": "markdown",
      "metadata": {
        "id": "4YFHIkGv-L9Y"
      },
      "source": [
        "#### Super()"
      ]
    },
    {
      "cell_type": "code",
      "metadata": {
        "id": "LY4G-3zi9cUE"
      },
      "source": [
        "class TeamSaathiMentors(TeamSaathiMembers):\n",
        "  def __init__(self,name,location,specialization,task):\n",
        "    super().__init__(name,location,specialization)\n",
        "    self.task=task\n",
        "  \n",
        "  def description(self):\n",
        "    print(super().description())\n",
        "    print(f\"Mentor {self.name} is responsible for the {self.task}\")"
      ],
      "execution_count": 109,
      "outputs": []
    },
    {
      "cell_type": "code",
      "metadata": {
        "colab": {
          "base_uri": "https://localhost:8080/"
        },
        "id": "DBO0u6-V9mvH",
        "outputId": "a01176d5-61d1-4b2f-d871-30a100384840"
      },
      "source": [
        "rijesh = TeamSaathiMentors (\"Rijesh\",\"Munich\",\"Computer Science\",\"Python Workshop\")\n",
        "rijesh.description()"
      ],
      "execution_count": 110,
      "outputs": [
        {
          "output_type": "stream",
          "text": [
            "Rijesh is studying Computer Science\n",
            "Mentor Rijesh is responsible for the Python Workshop\n"
          ],
          "name": "stdout"
        }
      ]
    },
    {
      "cell_type": "markdown",
      "metadata": {
        "id": "bWDArVfBnLYJ"
      },
      "source": [
        "### Summary : Structure of a Class in Python"
      ]
    },
    {
      "cell_type": "code",
      "metadata": {
        "id": "fevZlT5InRzt"
      },
      "source": [
        "class ClassName:\n",
        "  class_property_1 = \"I am a property of class ClassName\"\n",
        "  class_property_2 = \"I am a property of class ClassName\"\n",
        "  def __init__(self,object_property1,object_property2):\n",
        "    '''\n",
        "    I am the __init__ function. \n",
        "    I initialize new objects of this class and my main job is to take in whatever properties you feed me with and store it in self. \n",
        "    Without me no new objects can be created from this class !\n",
        "    '''\n",
        "    self.object_property1 = \"I am a property of the initialized object\"\n",
        "    self.object_property2 = \"I am a property of the initialized object\""
      ],
      "execution_count": 41,
      "outputs": []
    },
    {
      "cell_type": "markdown",
      "metadata": {
        "id": "3gfvIIamyeM_"
      },
      "source": [
        "**Exercise**: Methods surrounded with double underscores like \\_\\_init\\_\\_ are called **dunder methods or magic methods**. They are an integral part of OOP in python. Get a better understanding with this tutorial: https://www.geeksforgeeks.org/dunder-magic-methods-python"
      ]
    },
    {
      "cell_type": "markdown",
      "metadata": {
        "id": "oYFzkI8HUpSb"
      },
      "source": [
        "# Demo: Structuring a python project\n",
        "See the project structure here https://github.com/sheetalgiri/python-workshop-2021-day-2 \n",
        "\n",
        "You will notice \\_\\_init_\\_.py files in each folder. The \\_\\_init_\\_.py files are required to make Python treat directories containing the file as packages. This prevents directories with a common name, such as string, unintentionally hiding valid modules that occur later on the module search path. In the simplest case, \\_\\_init\\_\\_.py can just be an empty file, but it can also execute initialization code for the package or set the \\_\\_all_\\_ variable. \n",
        "(Source : https://docs.python.org/3/tutorial/modules.html)"
      ]
    },
    {
      "cell_type": "markdown",
      "metadata": {
        "id": "bIe2k_tF2Yd4"
      },
      "source": [
        "#The Assert Keyword\n",
        "If the defined condition returns False, AssertionError is raised:"
      ]
    },
    {
      "cell_type": "code",
      "metadata": {
        "id": "DDrp_0aL2dIz",
        "colab": {
          "base_uri": "https://localhost:8080/"
        },
        "outputId": "3bf66e6d-efad-43ff-cd58-93807883be7b"
      },
      "source": [
        "teamname = input(\"Enter team name: \")\n",
        "assert teamname == \"Project Saathi\", \"Team Name should be Project Saathi\"\n"
      ],
      "execution_count": 112,
      "outputs": [
        {
          "output_type": "stream",
          "text": [
            "Enter team name: Project Saathi\n"
          ],
          "name": "stdout"
        }
      ]
    },
    {
      "cell_type": "markdown",
      "metadata": {
        "id": "47QWxBImFJZr"
      },
      "source": [
        "#Unit testing\n",
        "\n",
        "Unit testing is a level of software testing where individual units / components of a software checked to verify correct functionality. They are tremendously useful because they help:\n",
        "\n",
        "*   Find software bugs early\n",
        "*   Ensure that the code does what is supposed to do\n",
        "*   Help debug our code\n",
        "*   Simplify the refactoring/code restructuring process\n",
        "*   Speed up the integration process\n",
        "\n",
        "There are different testing frameworks available for Python. Here we will use the UnitTest Framework which comes with the python package by default( https://docs.python.org/3/library/unittest.html)\n"
      ]
    },
    {
      "cell_type": "markdown",
      "metadata": {
        "id": "ZfBNa6_bu8oO"
      },
      "source": [
        "### Simple test function"
      ]
    },
    {
      "cell_type": "code",
      "metadata": {
        "id": "Om4ZMYyxFV5Z"
      },
      "source": [
        "def test_sum():\n",
        "    assert sum([1, 2, 3]) == 6, \"Error ! Should be 6\"\n",
        "\n",
        "test_sum()"
      ],
      "execution_count": 114,
      "outputs": []
    },
    {
      "cell_type": "markdown",
      "metadata": {
        "id": "5EOnQRp9IQyr"
      },
      "source": [
        "What is https://stackoverflow.com/questions/419163/what-does-if-name-main-do"
      ]
    },
    {
      "cell_type": "markdown",
      "metadata": {
        "id": "owUTjYQy5TBj"
      },
      "source": [
        "### Demo: Calculator Testing (based on [source](https://github.com/AndyLPK247/python-testing-101))"
      ]
    },
    {
      "cell_type": "markdown",
      "metadata": {
        "id": "WIfKR-hy7x6F"
      },
      "source": [
        "more assert functions here: https://docs.python.org/3/library/unittest.html"
      ]
    },
    {
      "cell_type": "markdown",
      "metadata": {
        "id": "JLhU6vGDZEsr"
      },
      "source": [
        "# Numpy Basics"
      ]
    },
    {
      "cell_type": "code",
      "metadata": {
        "id": "zK3JnewkZGGF"
      },
      "source": [
        "import numpy as np"
      ],
      "execution_count": 115,
      "outputs": []
    },
    {
      "cell_type": "markdown",
      "metadata": {
        "id": "qh7s1o9SaEjF"
      },
      "source": [
        "### Creating an array"
      ]
    },
    {
      "cell_type": "code",
      "metadata": {
        "colab": {
          "base_uri": "https://localhost:8080/"
        },
        "id": "MLzfFbS5ZKMU",
        "outputId": "902ef378-ab49-4e18-a334-acbec4abb71f"
      },
      "source": [
        "arr = np.array([1, 2, 3, 4, 5])\n",
        "arr"
      ],
      "execution_count": 116,
      "outputs": [
        {
          "output_type": "execute_result",
          "data": {
            "text/plain": [
              "array([1, 2, 3, 4, 5])"
            ]
          },
          "metadata": {
            "tags": []
          },
          "execution_count": 116
        }
      ]
    },
    {
      "cell_type": "markdown",
      "metadata": {
        "id": "iM2Vw4oqaJ3s"
      },
      "source": [
        "### Dimensionality"
      ]
    },
    {
      "cell_type": "code",
      "metadata": {
        "colab": {
          "base_uri": "https://localhost:8080/"
        },
        "id": "YkFrs5JSZ7Io",
        "outputId": "0b01dab4-6a4e-49c7-aa72-a814b4b507b8"
      },
      "source": [
        "print(arr.ndim)"
      ],
      "execution_count": 117,
      "outputs": [
        {
          "output_type": "stream",
          "text": [
            "1\n"
          ],
          "name": "stdout"
        }
      ]
    },
    {
      "cell_type": "code",
      "metadata": {
        "id": "WgiLpMubZ0MW"
      },
      "source": [
        "two_dimensional_arr = np.array([[1,2,3,4,5], [6,7,8,9,10]])"
      ],
      "execution_count": 118,
      "outputs": []
    },
    {
      "cell_type": "code",
      "metadata": {
        "colab": {
          "base_uri": "https://localhost:8080/"
        },
        "id": "LMHw_P1TdDxZ",
        "outputId": "de82be00-85c9-4780-c181-36bd858de115"
      },
      "source": [
        "print(two_dimensional_arr.ndim)"
      ],
      "execution_count": 119,
      "outputs": [
        {
          "output_type": "stream",
          "text": [
            "2\n"
          ],
          "name": "stdout"
        }
      ]
    },
    {
      "cell_type": "code",
      "metadata": {
        "colab": {
          "base_uri": "https://localhost:8080/"
        },
        "id": "fg1Lucd5K8-L",
        "outputId": "7035b002-7dfa-4560-e6da-178a02c4a8a0"
      },
      "source": [
        "two_dimensional_arr.shape"
      ],
      "execution_count": 121,
      "outputs": [
        {
          "output_type": "execute_result",
          "data": {
            "text/plain": [
              "(2, 5)"
            ]
          },
          "metadata": {
            "tags": []
          },
          "execution_count": 121
        }
      ]
    },
    {
      "cell_type": "markdown",
      "metadata": {
        "id": "KloSKgZ0fuQv"
      },
      "source": [
        "## Array Indexing"
      ]
    },
    {
      "cell_type": "code",
      "metadata": {
        "id": "v0kS6J7Ff0_l"
      },
      "source": [
        "arr=np.array([1,2,3,4,5])"
      ],
      "execution_count": 127,
      "outputs": []
    },
    {
      "cell_type": "markdown",
      "metadata": {
        "id": "-Mr5C3N7g91S"
      },
      "source": [
        "First element of *arr* (Note that the indexing starts from 0)"
      ]
    },
    {
      "cell_type": "code",
      "metadata": {
        "colab": {
          "base_uri": "https://localhost:8080/"
        },
        "id": "OSnj3JayhCbE",
        "outputId": "d981de72-2dd7-43cf-bf2c-29dd72e99a12"
      },
      "source": [
        "arr[0]"
      ],
      "execution_count": 123,
      "outputs": [
        {
          "output_type": "execute_result",
          "data": {
            "text/plain": [
              "1"
            ]
          },
          "metadata": {
            "tags": []
          },
          "execution_count": 123
        }
      ]
    },
    {
      "cell_type": "markdown",
      "metadata": {
        "id": "ZKB4Z9N8hEPn"
      },
      "source": [
        "Last element of *arr*"
      ]
    },
    {
      "cell_type": "code",
      "metadata": {
        "colab": {
          "base_uri": "https://localhost:8080/"
        },
        "id": "SExoh4VDhJe8",
        "outputId": "b2b0254e-ce79-478b-e9f3-2dbcc4a7bc9d"
      },
      "source": [
        "arr[-1]"
      ],
      "execution_count": 126,
      "outputs": [
        {
          "output_type": "execute_result",
          "data": {
            "text/plain": [
              "5"
            ]
          },
          "metadata": {
            "tags": []
          },
          "execution_count": 126
        }
      ]
    },
    {
      "cell_type": "markdown",
      "metadata": {
        "id": "fhQc--ifhRyH"
      },
      "source": [
        "Indexing in n-dimension arrays"
      ]
    },
    {
      "cell_type": "code",
      "metadata": {
        "colab": {
          "base_uri": "https://localhost:8080/"
        },
        "id": "Pl54juoqigA2",
        "outputId": "28d227b3-2ae3-4432-c24f-0a7f2f1a84e0"
      },
      "source": [
        "twodim_arr = np.array([[1,2,3,4,5], [6,7,8,9,10]])\n",
        "print(twodim_arr[0,1]) #2nd element\n",
        "print(twodim_arr[0,4]) #5th element"
      ],
      "execution_count": 128,
      "outputs": [
        {
          "output_type": "stream",
          "text": [
            "2\n",
            "5\n"
          ],
          "name": "stdout"
        }
      ]
    },
    {
      "cell_type": "code",
      "metadata": {
        "colab": {
          "base_uri": "https://localhost:8080/"
        },
        "id": "29zbUmi-LbYt",
        "outputId": "4146631d-c1cd-422a-cf4a-06bc00132a27"
      },
      "source": [
        "twodim_arr[0,1]"
      ],
      "execution_count": 132,
      "outputs": [
        {
          "output_type": "execute_result",
          "data": {
            "text/plain": [
              "2"
            ]
          },
          "metadata": {
            "tags": []
          },
          "execution_count": 132
        }
      ]
    },
    {
      "cell_type": "code",
      "metadata": {
        "colab": {
          "base_uri": "https://localhost:8080/"
        },
        "id": "yiQwPYDDiivd",
        "outputId": "f9fd0cd5-4881-4c68-ed9f-6dde4b6c5871"
      },
      "source": [
        "threedim_arr = np.array([[[1, 2, 3], [4, 5, 6]], [[7, 8, 9], [10, 11, 12]]])\n",
        "print(\"Shape of threedim_arr:\",threedim_arr.shape)\n",
        "print(threedim_arr)"
      ],
      "execution_count": 129,
      "outputs": [
        {
          "output_type": "stream",
          "text": [
            "Shape of threedim_arr: (2, 2, 3)\n",
            "[[[ 1  2  3]\n",
            "  [ 4  5  6]]\n",
            "\n",
            " [[ 7  8  9]\n",
            "  [10 11 12]]]\n"
          ],
          "name": "stdout"
        }
      ]
    },
    {
      "cell_type": "markdown",
      "metadata": {
        "id": "fnHq5njukdje"
      },
      "source": [
        "How do we select 6 ?"
      ]
    },
    {
      "cell_type": "code",
      "metadata": {
        "id": "vXeISuQjjze4"
      },
      "source": [
        "threedim_arr[0, 1, 2]"
      ],
      "execution_count": null,
      "outputs": []
    },
    {
      "cell_type": "markdown",
      "metadata": {
        "id": "qNtSENXd86mY"
      },
      "source": [
        "###Array slicing\n",
        "arr[start:end:step]"
      ]
    },
    {
      "cell_type": "code",
      "metadata": {
        "id": "v8eTfQpEnI4X"
      },
      "source": [
        "arr = np.array([1, 2, 3, 4, 5, 6, 7])"
      ],
      "execution_count": 134,
      "outputs": []
    },
    {
      "cell_type": "code",
      "metadata": {
        "colab": {
          "base_uri": "https://localhost:8080/"
        },
        "id": "arE31mAvP1kO",
        "outputId": "262f1322-051d-4a90-c233-b4b3bb79ab18"
      },
      "source": [
        "print(\"Return every other element in the array\",arr[::2])\n",
        "print(\"Returns elements from index 4 to the ened of the array\",print(arr[4:]))"
      ],
      "execution_count": 137,
      "outputs": [
        {
          "output_type": "stream",
          "text": [
            "Return every other element in the array [1 3 5 7]\n",
            "[5 6 7]\n",
            "Returns elements from index 4 to the ened of the array None\n"
          ],
          "name": "stdout"
        }
      ]
    },
    {
      "cell_type": "markdown",
      "metadata": {
        "id": "DtPb3a-CSUbG"
      },
      "source": [
        "### Calculation functions of numpy arrays"
      ]
    },
    {
      "cell_type": "code",
      "metadata": {
        "id": "ib02sl2DTR0G"
      },
      "source": [
        "np.sum([[0, 1], [0, 5]])"
      ],
      "execution_count": null,
      "outputs": []
    },
    {
      "cell_type": "code",
      "metadata": {
        "id": "l5nfCaT-Wmja"
      },
      "source": [
        "np.sum([[0, 1], [0, 5]], axis=0)"
      ],
      "execution_count": null,
      "outputs": []
    },
    {
      "cell_type": "code",
      "metadata": {
        "id": "-jEn1R2XWnT2"
      },
      "source": [
        "np.sum([[0, 1], [0, 5]], axis=1)"
      ],
      "execution_count": null,
      "outputs": []
    },
    {
      "cell_type": "code",
      "metadata": {
        "colab": {
          "base_uri": "https://localhost:8080/"
        },
        "id": "Jnb_dxT9Wn-f",
        "outputId": "82709577-fd45-4f35-e2ed-612d21642b86"
      },
      "source": [
        "arr= np.array([[10, 11, 12],[13, 14, 15]])\n",
        "arr"
      ],
      "execution_count": 140,
      "outputs": [
        {
          "output_type": "execute_result",
          "data": {
            "text/plain": [
              "5"
            ]
          },
          "metadata": {
            "tags": []
          },
          "execution_count": 140
        }
      ]
    },
    {
      "cell_type": "code",
      "metadata": {
        "colab": {
          "base_uri": "https://localhost:8080/"
        },
        "id": "aOqFpdrkXW-o",
        "outputId": "1640359f-7932-4a0d-d464-dd3203cb4a5b"
      },
      "source": [
        "\n",
        "np.argmax(arr)"
      ],
      "execution_count": 141,
      "outputs": [
        {
          "output_type": "execute_result",
          "data": {
            "text/plain": [
              "5"
            ]
          },
          "metadata": {
            "tags": []
          },
          "execution_count": 141
        }
      ]
    },
    {
      "cell_type": "markdown",
      "metadata": {
        "id": "PhOvOalDW1uQ"
      },
      "source": [
        "**Exercise** Explore more calculation functions https://numpy.org/doc/stable/reference/arrays.ndarray.html#calculation "
      ]
    },
    {
      "cell_type": "markdown",
      "metadata": {
        "id": "4FbBnDmIwcpG"
      },
      "source": [
        "**Exercise** Create a python notebook and go through the examples in https://numpy.org/doc/stable/reference/arrays.indexing.html . You only have to cover \"Basic Slicing and Indexing\" and \"Advanced Indexing\""
      ]
    }
  ]
}